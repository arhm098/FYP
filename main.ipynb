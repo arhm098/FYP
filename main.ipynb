{
 "cells": [
  {
   "cell_type": "code",
   "execution_count": 7,
   "metadata": {},
   "outputs": [],
   "source": [
    "#loading libraries \n",
    "#Add libraries here\n",
    "import pandas as pd\n",
    "import seaborn as sns\n",
    "import matplotlib.pyplot as plt\n"
   ]
  },
  {
   "cell_type": "code",
   "execution_count": 8,
   "metadata": {},
   "outputs": [],
   "source": [
    "#loading data set into the data frame\n",
    "df = pd.read_csv(\"data/dataPakistan.csv\",low_memory=False)\n",
    "pd.options.display.max_rows = 999"
   ]
  },
  {
   "cell_type": "code",
   "execution_count": 4,
   "metadata": {},
   "outputs": [
    {
     "name": "stdout",
     "output_type": "stream",
     "text": [
      "<class 'pandas.core.frame.DataFrame'>\n",
      "RangeIndex: 9960 entries, 0 to 9959\n",
      "Columns: 166 entries, Language to Time to completion\n",
      "dtypes: float64(26), int64(48), object(92)\n",
      "memory usage: 12.6+ MB\n"
     ]
    },
    {
     "data": {
      "text/plain": [
       "Index(['Language', 'Encrypted Email', 'Overall MHQ', 'Core Cognition',\n",
       "       'Complex Cognition', 'Drive & Motivation', 'Mood & Outlook',\n",
       "       'Social & Self', 'Mind Body Connection', 'Age',\n",
       "       ...\n",
       "       'Suffered a loss in a major fire, flood, earthquake, or natural disaster.1',\n",
       "       'Displacement from your home due to political, environmental or economic reasons.1',\n",
       "       'Loss of your job or livelihood leading to an inability to make ends meet.',\n",
       "       'Serious injury, harm, or death you caused to someone else.1',\n",
       "       'Caring for a child or partner with a major chronic disability or illness',\n",
       "       'Threatening, coercive or controlling behavior by another person.1',\n",
       "       'Forced family control over major life decisions (e.g. marriage).1',\n",
       "       'Start Date (UTC)', 'Submit Date (UTC)', 'Time to completion'],\n",
       "      dtype='object', length=166)"
      ]
     },
     "execution_count": 4,
     "metadata": {},
     "output_type": "execute_result"
    }
   ],
   "source": [
    "#basic data\n",
    "df.info()\n",
    "df.columns"
   ]
  },
  {
   "cell_type": "code",
   "execution_count": null,
   "metadata": {},
   "outputs": [],
   "source": [
    "# Change this variable if you want the pivoting point between 0 and 1 \n",
    "# 0 and 1 means 0 is critical and 1 is ok status in mental health\n",
    "# this code is mapping this to the given MHQ score in the given\n",
    "# data pivot value -50 will match all above as ok and all below as \n",
    "# critical.  \n",
    "pivot = 0\n",
    "#code to add the y label\n",
    "df[\"status\"] = -1\n",
    "status_label = df[\"status\"]\n",
    "MHQ = df[\"Overall MHQ\"]\n",
    "for index,row in enumerate(status_label):\n",
    "    if MHQ[index] > pivot:\n",
    "        status_label[index] = 1\n",
    "    else:\n",
    "        status_label[index] = 0\n",
    "df[\"status\"] = status_label\n",
    "for i in df[\"status\"]:\n",
    "    print(i)"
   ]
  },
  {
   "cell_type": "code",
   "execution_count": null,
   "metadata": {},
   "outputs": [],
   "source": [
    "#now we need to check null values, we dealt with some in emp_length but lets see the whole picture\n",
    "df.isnull().sum().sort_values()\n",
    "#running the following codes we can see the data is ready to put into the model now"
   ]
  },
  {
   "cell_type": "code",
   "execution_count": null,
   "metadata": {},
   "outputs": [],
   "source": [
    "plt.figure(figsize=(12,7))\n",
    "sns.heatmap(df.corr(), annot=False, cmap='Blues')\n",
    "plt.tight_layout()"
   ]
  },
  {
   "cell_type": "code",
   "execution_count": null,
   "metadata": {},
   "outputs": [],
   "source": [
    "# CORE COGNITION\n",
    "#getting non null rows for the intermediate model\n",
    "df = df.dropna(axis='columns')\n",
    "#dropping useless cols\n",
    "df = df.drop([\"Language\",\"Overall MHQ\",\"Complex Cognition\",\"Drive & Motivation\",\"Mood & Outlook\",\"Social & Self\",\"Mind Body Connection\",\"Country\"],axis='columns')\n",
    "df.isnull()"
   ]
  },
  {
   "cell_type": "code",
   "execution_count": 14,
   "metadata": {},
   "outputs": [
    {
     "name": "stdout",
     "output_type": "stream",
     "text": [
      "['|Your relationship with one or more people that you know  (e.g. thinking constantly about a particular person in an unhealthy way)'\n",
      " nan\n",
      " '|Your relationship with one or more people that you know  (e.g. thinking constantly about a particular person in an unhealthy way)|Possible disasters that could happen (e.g. imagining someone close to you will die or that you will have a car accident)'\n",
      " '|Something negative or bad that you experienced in the past'\n",
      " '|Your relationship with one or more people that you know  (e.g. thinking constantly about a particular person in an unhealthy way)|Order of things in your environment (e.g. aligning edges and positioning of objects| walking a certain way)'\n",
      " '|Your relationship with one or more people that you know  (e.g. thinking constantly about a particular person in an unhealthy way)|Something negative or bad that you experienced in the past'\n",
      " '|Something negative or bad that you experienced in the past|Your relationship with one or more people that you know  (e.g. thinking constantly about a particular person in an unhealthy way)'\n",
      " '|Hygiene| cleanliness (e.g. cleanliness of objects| need for handwashing)|Something negative or bad that you experienced in the past'\n",
      " '|Order of things in your environment (e.g. aligning edges and positioning of objects| walking a certain way)|Something negative or bad that you experienced in the past'\n",
      " '|Order of things in your environment (e.g. aligning edges and positioning of objects| walking a certain way)'\n",
      " '|Something negative or bad that you experienced in the past|Order of things in your environment (e.g. aligning edges and positioning of objects| walking a certain way)'\n",
      " \"|Your relationship with one or more people that you know  (e.g. thinking constantly about a particular person in an unhealthy way)|A celebrity or person that you don't know (e.g. thinking constantly about that person to the detriment of your own life)\"\n",
      " '|Fear of the future and what it will do to me and my children'\n",
      " '|Possible disasters that could happen (e.g. imagining someone close to you will die or that you will have a car accident)|Social media comments relating to you (e.g. how many likes you have and what people say about your posts)'\n",
      " '|Hygiene| cleanliness (e.g. cleanliness of objects| need for handwashing)'\n",
      " '|Possible disasters that could happen (e.g. imagining someone close to you will die or that you will have a car accident)'\n",
      " \"|A celebrity or person that you don't know (e.g. thinking constantly about that person to the detriment of your own life)\"\n",
      " '|Social media comments relating to you (e.g. how many likes you have and what people say about your posts)|Possible disasters that could happen (e.g. imagining someone close to you will die or that you will have a car accident)'\n",
      " '|Possible disasters that could happen (e.g. imagining someone close to you will die or that you will have a car accident)|Hygiene| cleanliness (e.g. cleanliness of objects| need for handwashing)'\n",
      " '|Fear of diseases'\n",
      " '|Your relationship with one or more people that you know  (e.g. thinking constantly about a particular person in an unhealthy way)|Social media comments relating to you (e.g. how many likes you have and what people say about your posts)'\n",
      " '|Hygiene| cleanliness (e.g. cleanliness of objects| need for handwashing)|Social media comments relating to you (e.g. how many likes you have and what people say about your posts)'\n",
      " '|Hygiene| cleanliness (e.g. cleanliness of objects| need for handwashing)|Possible disasters that could happen (e.g. imagining someone close to you will die or that you will have a car accident)'\n",
      " '|A macro issue or current event (e.g. a constant rumination on the possible consequences of climate change or Covid)'\n",
      " '|Possible disasters that could happen (e.g. imagining someone close to you will die or that you will have a car accident)|Something negative or bad that you experienced in the past'\n",
      " '|Order of things in your environment (e.g. aligning edges and positioning of objects| walking a certain way)|Your relationship with one or more people that you know  (e.g. thinking constantly about a particular person in an unhealthy way)'\n",
      " '|Social media comments relating to you (e.g. how many likes you have and what people say about your posts)|Your relationship with one or more people that you know  (e.g. thinking constantly about a particular person in an unhealthy way)'\n",
      " '|Hygiene| cleanliness (e.g. cleanliness of objects| need for handwashing)|Your relationship with one or more people that you know  (e.g. thinking constantly about a particular person in an unhealthy way)'\n",
      " '|Hygiene| cleanliness (e.g. cleanliness of objects| need for handwashing)|Order of things in your environment (e.g. aligning edges and positioning of objects| walking a certain way)'\n",
      " \"|A celebrity or person that you don't know (e.g. thinking constantly about that person to the detriment of your own life)|A macro issue or current event (e.g. a constant rumination on the possible consequences of climate change or Covid)\"\n",
      " '|Something negative or bad that you experienced in the past|Hygiene| cleanliness (e.g. cleanliness of objects| need for handwashing)'\n",
      " '|Possible disasters that could happen (e.g. imagining someone close to you will die or that you will have a car accident)|Your relationship with one or more people that you know  (e.g. thinking constantly about a particular person in an unhealthy way)'\n",
      " '|A macro issue or current event (e.g. a constant rumination on the possible consequences of climate change or Covid)|Your relationship with one or more people that you know  (e.g. thinking constantly about a particular person in an unhealthy way)'\n",
      " '|Something negative or bad that you experienced in the past|Social media comments relating to you (e.g. how many likes you have and what people say about your posts)'\n",
      " '|A macro issue or current event (e.g. a constant rumination on the possible consequences of climate change or Covid)|Possible disasters that could happen (e.g. imagining someone close to you will die or that you will have a car accident)'\n",
      " '|Doubts about self life and health'\n",
      " \"|A celebrity or person that you don't know (e.g. thinking constantly about that person to the detriment of your own life)|Something negative or bad that you experienced in the past\"\n",
      " '|Social media comments relating to you (e.g. how many likes you have and what people say about your posts)'\n",
      " '|Order of things in your environment (e.g. aligning edges and positioning of objects| walking a certain way)|Possible disasters that could happen (e.g. imagining someone close to you will die or that you will have a car accident)'\n",
      " \"|A celebrity or person that you don't know (e.g. thinking constantly about that person to the detriment of your own life)|Order of things in your environment (e.g. aligning edges and positioning of objects| walking a certain way)\"\n",
      " '|Possible disasters that could happen (e.g. imagining someone close to you will die or that you will have a car accident)|A macro issue or current event (e.g. a constant rumination on the possible consequences of climate change or Covid)'\n",
      " '|Something negative or bad that you experienced in the past|A macro issue or current event (e.g. a constant rumination on the possible consequences of climate change or Covid)'\n",
      " '|Your relationship with one or more people that you know  (e.g. thinking constantly about a particular person in an unhealthy way)|Hygiene| cleanliness (e.g. cleanliness of objects| need for handwashing)'\n",
      " '|Something negative or bad that you experienced in the past|Possible disasters that could happen (e.g. imagining someone close to you will die or that you will have a car accident)'\n",
      " '|About  God and universe' '|Uncertainty of things'\n",
      " '|Social media comments relating to you (e.g. how many likes you have and what people say about your posts)|Something negative or bad that you experienced in the past'\n",
      " \"|Possible disasters that could happen (e.g. imagining someone close to you will die or that you will have a car accident)|A celebrity or person that you don't know (e.g. thinking constantly about that person to the detriment of your own life)\"\n",
      " '|Order of things in your environment (e.g. aligning edges and positioning of objects| walking a certain way)|Social media comments relating to you (e.g. how many likes you have and what people say about your posts)'\n",
      " '|Writing wrong things at important places'\n",
      " '|Negative about religious personalities'\n",
      " '|Order of things in your environment (e.g. aligning edges and positioning of objects| walking a certain way)|Hygiene| cleanliness (e.g. cleanliness of objects| need for handwashing)'\n",
      " '|unwanted interference of others'\n",
      " '|A macro issue or current event (e.g. a constant rumination on the possible consequences of climate change or Covid)|Something negative or bad that you experienced in the past'\n",
      " '|Social media comments relating to you (e.g. how many likes you have and what people say about your posts)|Hygiene| cleanliness (e.g. cleanliness of objects| need for handwashing)'\n",
      " \"|A celebrity or person that you don't know (e.g. thinking constantly about that person to the detriment of your own life)|Possible disasters that could happen (e.g. imagining someone close to you will die or that you will have a car accident)\"\n",
      " '|Possible disasters that could happen (e.g. imagining someone close to you will die or that you will have a car accident)|Order of things in your environment (e.g. aligning edges and positioning of objects| walking a certain way)'\n",
      " '|I have no problem in the past' '|Scrupulosity'\n",
      " '|About some upcoming event or some imaginary situations long term planning'\n",
      " '|My health issues'\n",
      " \"|Not sure about my future| how would be my husband| when will get married| will i be alone| no feel wasted important years of my life| no idea what is going to happen in next year because of chances are moving to unwanted city along with the family but can't find solution\"\n",
      " \"|Social media comments relating to you (e.g. how many likes you have and what people say about your posts)|A celebrity or person that you don't know (e.g. thinking constantly about that person to the detriment of your own life)\"\n",
      " '|Too much careing about my family'\n",
      " \"|Hygiene| cleanliness (e.g. cleanliness of objects| need for handwashing)|A celebrity or person that you don't know (e.g. thinking constantly about that person to the detriment of your own life)\"\n",
      " '|Your relationship with one or more people that you know  (e.g. thinking constantly about a particular person in an unhealthy way)|A macro issue or current event (e.g. a constant rumination on the possible consequences of climate change or Covid)'\n",
      " '|Life' '|Diabetes' '|unforeseen fear' '|C|F &H' '|people are rich'\n",
      " \"|A celebrity or person that you don't know (e.g. thinking constantly about that person to the detriment of your own life)|Your relationship with one or more people that you know  (e.g. thinking constantly about a particular person in an unhealthy way)\"\n",
      " '|what people think about me' '|Hallucinations and suicidal thoughts'\n",
      " \"|Family falling apart due to people's negative influence| children being selfish towards parents even when they have given their best for them etc\"\n",
      " \"|Death of parents some person negative behaviour| people's selfishness n hypocrisy etc.\"\n",
      " '|Humiliation because of unable to perform well' '|Fear of people'\n",
      " '|Fear of war' '|Porn addiction'\n",
      " '|A macro issue or current event (e.g. a constant rumination on the possible consequences of climate change or Covid)|Order of things in your environment (e.g. aligning edges and positioning of objects| walking a certain way)'\n",
      " '|Worrying about my grades in exams'\n",
      " \"|Something negative or bad that you experienced in the past|A celebrity or person that you don't know (e.g. thinking constantly about that person to the detriment of your own life)\"\n",
      " '|I feel some fear all day and worried about my depression'\n",
      " '|Financial issues' '|Depression anxiety fears of illness'\n",
      " '|How to handle things effectively and quickly'\n",
      " '|People having wrong notions about me and my character' '|Religion'\n",
      " '|Hygiene| cleanliness (e.g. cleanliness of objects| need for handwashing)|A macro issue or current event (e.g. a constant rumination on the possible consequences of climate change or Covid)'\n",
      " '|What people think of me and my relationship with my family'\n",
      " '|When things are not progressing well as planned by myself'\n",
      " '|I get thoughts that I am brutally killing and torturing people. Especially people in my family.'\n",
      " '|not getting what i want' '|Thoughts'\n",
      " '|Order of things in your environment (e.g. aligning edges and positioning of objects| walking a certain way)|A macro issue or current event (e.g. a constant rumination on the possible consequences of climate change or Covid)'\n",
      " '|I have some serious disease i will die'\n",
      " \"|Worried for family's health and loved ones safety and attention\"\n",
      " \"|Can't\" '|Financial crisis and spectrum of my son' '|None'\n",
      " '|Sexual or weird feeling when i saw a female' '|Home finances'\n",
      " '|Not sure'\n",
      " '|Thoughts about my future and deficiency in my religious life makes me depressed.'\n",
      " '|Social media comments relating to you (e.g. how many likes you have and what people say about your posts)|Order of things in your environment (e.g. aligning edges and positioning of objects| walking a certain way)'\n",
      " '|Thinking of different ideas how one can be hurt'\n",
      " \"|I might end up actually having a serious mental disease like schizophrenia or dementia or a terrible life where things won't ever be the same ever again. That its only going to go downhill from here till I die\"\n",
      " '|Restrictions or limitations or responsibilities by Job or workplce| boss| and tasks unwanted'\n",
      " '|About parents'\n",
      " \"|Order of things in your environment (e.g. aligning edges and positioning of objects| walking a certain way)|A celebrity or person that you don't know (e.g. thinking constantly about that person to the detriment of your own life)\"\n",
      " '|I dont understand it' '|Work load pressure' '|The behaviour of others'\n",
      " '|Future fears' '|financial issue and health of person I know'\n",
      " \"|Can't explain| but negative\" '|Accessive Sexual thoughts'\n",
      " '|Social media comments relating to you (e.g. how many likes you have and what people say about your posts)|A macro issue or current event (e.g. a constant rumination on the possible consequences of climate change or Covid)'\n",
      " '|Fear of future' '|Worried about my and my family future'\n",
      " '|Scarce natural resources'\n",
      " '|Thinking about my future and feeling worried for my coming life.'\n",
      " '|The non responsibilty of persons'\n",
      " '|Anticipating Anxiety fear of something happing worse'\n",
      " \"|Thoughts that life is meaningless and the pain we suffer doesn't equate to amount of happiness\"\n",
      " '|Current Period of my life']\n"
     ]
    }
   ],
   "source": [
    "print(df[\"Primary nature of strange, unwanted or obsessive thoughts\"].unique())"
   ]
  },
  {
   "cell_type": "code",
   "execution_count": null,
   "metadata": {},
   "outputs": [],
   "source": [
    "#fixing gender and age  rows\n",
    "age = df[\"Age\"]\n",
    "for i,n in enumerate(age):\n",
    "    age[i] = int(n[:2])\n",
    "df[\"Age\"] = age\n",
    "\n",
    "df[\"Biological Sex\"].replace({\"Female\":1,\"Male\":2,\"\":0,\"Other/Intersex\":0,\"Prefer not to say\":0},inplace=True)\n",
    "#dropping useless rows and fixing gender rows with one hot encoding\n",
    "df.drop([\"Is identity different from biological sex\",\"Specified identity\",\"Country\",\"State\",\"Ethnicity\"],inplace=True)\n"
   ]
  },
  {
   "cell_type": "code",
   "execution_count": 21,
   "metadata": {},
   "outputs": [
    {
     "ename": "SyntaxError",
     "evalue": "unterminated string literal (detected at line 8) (4238573302.py, line 8)",
     "output_type": "error",
     "traceback": [
      "\u001b[1;36m  Input \u001b[1;32mIn [21]\u001b[1;36m\u001b[0m\n\u001b[1;33m    df.drop([\"Do you currently work in any of the following professions/sectors?\",\"Household Income\"Household\"],inpace=True)\u001b[0m\n\u001b[1;37m                                                                                                             ^\u001b[0m\n\u001b[1;31mSyntaxError\u001b[0m\u001b[1;31m:\u001b[0m unterminated string literal (detected at line 8)\n"
     ]
    }
   ],
   "source": [
    "pd.get_dummies(df, drop_first = True, columns = ['Describe your place of living'] ).head()\n",
    "df.drop([\"City you live in\"],inpace=True)\n",
    "df[\"How many other people do you share your home with?\"].replace({\"6+\":6,\"\":1},inplace=True)\n",
    "pd.get_dummies(df, drop_first = True, columns = ['What is your current family situation?'] ).head()\n",
    "df[\"How many brothers and sisters did you have when you were growing up?\"].replace({'4':4, '5+':5,'1':1,'2':2,'3':3,'None':0,'Prefer not to say':3,\"\":3},inplace=True)\n",
    "pd.get_dummies(df, drop_first = True, columns = [\"Education\"] ).head()\n",
    "pd.get_dummies(df, drop_first = True, columns = [\"Employment\"] ).head()\n",
    "df.drop([\"Do you currently work in any of the following professions/sectors?\",\"Household Income\",\"Household\"],inpace=True)\n"
   ]
  },
  {
   "cell_type": "code",
   "execution_count": null,
   "metadata": {},
   "outputs": [],
   "source": []
  }
 ],
 "metadata": {
  "kernelspec": {
   "display_name": "Python 3.10.7 64-bit (windows store)",
   "language": "python",
   "name": "python3"
  },
  "language_info": {
   "codemirror_mode": {
    "name": "ipython",
    "version": 3
   },
   "file_extension": ".py",
   "mimetype": "text/x-python",
   "name": "python",
   "nbconvert_exporter": "python",
   "pygments_lexer": "ipython3",
   "version": "3.10.8"
  },
  "orig_nbformat": 4,
  "vscode": {
   "interpreter": {
    "hash": "d62ed14bcfe00e9327ce4c427a2f9f47c404f2673d9388e850d9d086e145f1c8"
   }
  }
 },
 "nbformat": 4,
 "nbformat_minor": 2
}
