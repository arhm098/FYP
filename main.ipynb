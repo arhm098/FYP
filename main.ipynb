{
 "cells": [
  {
   "cell_type": "code",
   "execution_count": 9,
   "metadata": {},
   "outputs": [],
   "source": [
    "#loading libraries \n",
    "#Add libraries here\n",
    "import pandas as pd\n"
   ]
  },
  {
   "cell_type": "code",
   "execution_count": 10,
   "metadata": {},
   "outputs": [],
   "source": [
    "#loading data set into the data frame\n",
    "df = pd.read_csv(\"data/dataPakistan.csv\",low_memory=False)"
   ]
  },
  {
   "cell_type": "code",
   "execution_count": null,
   "metadata": {},
   "outputs": [],
   "source": [
    "#basic data\n",
    "df.info()\n",
    "df.columns"
   ]
  },
  {
   "cell_type": "code",
   "execution_count": null,
   "metadata": {},
   "outputs": [],
   "source": [
    "# Change this variable if you want the pivoting point between 0 and 1 \n",
    "# 0 and 1 means 0 is critical and 1 is ok status in mental health\n",
    "# this code is mapping this to the given MHQ score in the given\n",
    "# data pivot value -50 will match all above as ok and all below as \n",
    "# critical.  \n",
    "pivot = 0\n",
    "#code to add the y label\n",
    "df[\"status\"] = -1\n",
    "status_label = df[\"status\"]\n",
    "MHQ = df[\"Overall MHQ\"]\n",
    "for index,row in enumerate(status_label):\n",
    "    if MHQ[index] > pivot:\n",
    "        status_label[index] = 1\n",
    "    else:\n",
    "        status_label[index] = 0\n",
    "df[\"status\"] = status_label\n",
    "for i in df[\"status\"]:\n",
    "    print(i)"
   ]
  }
 ],
 "metadata": {
  "kernelspec": {
   "display_name": "Python 3.10.7 64-bit (windows store)",
   "language": "python",
   "name": "python3"
  },
  "language_info": {
   "codemirror_mode": {
    "name": "ipython",
    "version": 3
   },
   "file_extension": ".py",
   "mimetype": "text/x-python",
   "name": "python",
   "nbconvert_exporter": "python",
   "pygments_lexer": "ipython3",
   "version": "3.10.8"
  },
  "orig_nbformat": 4,
  "vscode": {
   "interpreter": {
    "hash": "d62ed14bcfe00e9327ce4c427a2f9f47c404f2673d9388e850d9d086e145f1c8"
   }
  }
 },
 "nbformat": 4,
 "nbformat_minor": 2
}
