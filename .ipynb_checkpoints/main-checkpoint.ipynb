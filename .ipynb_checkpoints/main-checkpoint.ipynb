{
 "cells": [
  {
   "cell_type": "code",
   "execution_count": 1,
   "metadata": {},
   "outputs": [],
   "source": [
    "#loading libraries \n",
    "#Add libraries here\n",
    "import pandas as pd\n",
    "import seaborn as sns\n",
    "import matplotlib.pyplot as plt\n"
   ]
  },
  {
   "cell_type": "code",
   "execution_count": 2,
   "metadata": {},
   "outputs": [],
   "source": [
    "#loading data set into the data frame\n",
    "df = pd.read_csv(\"data/dataPakistan.csv\",low_memory=False)\n",
    "pd.options.display.max_rows = 999"
   ]
  },
  {
   "cell_type": "code",
   "execution_count": 3,
   "metadata": {},
   "outputs": [
    {
     "name": "stdout",
     "output_type": "stream",
     "text": [
      "<class 'pandas.core.frame.DataFrame'>\n",
      "RangeIndex: 9960 entries, 0 to 9959\n",
      "Columns: 166 entries, Language to Time to completion\n",
      "dtypes: float64(26), int64(48), object(92)\n",
      "memory usage: 12.6+ MB\n"
     ]
    },
    {
     "data": {
      "text/plain": [
       "Index(['Language', 'Encrypted Email', 'Overall MHQ', 'Core Cognition',\n",
       "       'Complex Cognition', 'Drive & Motivation', 'Mood & Outlook',\n",
       "       'Social & Self', 'Mind Body Connection', 'Age',\n",
       "       ...\n",
       "       'Suffered a loss in a major fire, flood, earthquake, or natural disaster.1',\n",
       "       'Displacement from your home due to political, environmental or economic reasons.1',\n",
       "       'Loss of your job or livelihood leading to an inability to make ends meet.',\n",
       "       'Serious injury, harm, or death you caused to someone else.1',\n",
       "       'Caring for a child or partner with a major chronic disability or illness',\n",
       "       'Threatening, coercive or controlling behavior by another person.1',\n",
       "       'Forced family control over major life decisions (e.g. marriage).1',\n",
       "       'Start Date (UTC)', 'Submit Date (UTC)', 'Time to completion'],\n",
       "      dtype='object', length=166)"
      ]
     },
     "execution_count": 3,
     "metadata": {},
     "output_type": "execute_result"
    }
   ],
   "source": [
    "#basic data\n",
    "df.info()\n",
    "df.columns"
   ]
  },
  {
   "cell_type": "code",
   "execution_count": null,
   "metadata": {},
   "outputs": [],
   "source": [
    "# Change this variable if you want the pivoting point between 0 and 1 \n",
    "# 0 and 1 means 0 is critical and 1 is ok status in mental health\n",
    "# this code is mapping this to the given MHQ score in the given\n",
    "# data pivot value -50 will match all above as ok and all below as \n",
    "# critical.  \n",
    "pivot = 0\n",
    "#code to add the y label\n",
    "df[\"status\"] = -1\n",
    "status_label = df[\"status\"]\n",
    "MHQ = df[\"Overall MHQ\"]\n",
    "for index,row in enumerate(status_label):\n",
    "    if MHQ[index] > pivot:\n",
    "        status_label[index] = 1\n",
    "    else:\n",
    "        status_label[index] = 0\n",
    "df[\"status\"] = status_label\n",
    "for i in df[\"status\"]:\n",
    "    print(i)"
   ]
  },
  {
   "cell_type": "code",
   "execution_count": null,
   "metadata": {},
   "outputs": [],
   "source": [
    "#now we need to check null values, we dealt with some in emp_length but lets see the whole picture\n",
    "df.isnull().sum().sort_values()\n",
    "#running the following codes we can see the data is ready to put into the model now"
   ]
  },
  {
   "cell_type": "code",
   "execution_count": null,
   "metadata": {},
   "outputs": [],
   "source": [
    "plt.figure(figsize=(12,7))\n",
    "sns.heatmap(df.corr(), annot=False, cmap='Blues')\n",
    "plt.tight_layout()"
   ]
  },
  {
   "cell_type": "code",
   "execution_count": null,
   "metadata": {},
   "outputs": [],
   "source": [
    "# CORE COGNITION\n",
    "#getting non null rows for the intermediate model\n",
    "df = df.dropna(axis='columns')\n",
    "#dropping useless cols\n",
    "df = df.drop([\"Language\",\"Overall MHQ\",\"Complex Cognition\",\"Drive & Motivation\",\"Mood & Outlook\",\"Social & Self\",\"Mind Body Connection\",\"Country\"],axis='columns')\n",
    "df.isnull()"
   ]
  },
  {
   "cell_type": "code",
   "execution_count": 20,
   "metadata": {},
   "outputs": [
    {
     "name": "stdout",
     "output_type": "stream",
     "text": [
      "9931\n"
     ]
    }
   ],
   "source": [
    "print(df[\"Household\"].isnull().sum())"
   ]
  },
  {
   "cell_type": "code",
   "execution_count": null,
   "metadata": {},
   "outputs": [],
   "source": [
    "#fixing gender and age  rows\n",
    "age = df[\"Age\"]\n",
    "for i,n in enumerate(age):\n",
    "    age[i] = int(n[:2])\n",
    "df[\"Age\"] = age\n",
    "\n",
    "df[\"Biological Sex\"].replace({\"Female\":1,\"Male\":2,\"\":0,\"Other/Intersex\":0,\"Prefer not to say\":0},inplace=True)\n",
    "#dropping useless rows and fixing gender rows with one hot encoding\n",
    "df.drop([\"Is identity different from biological sex\",\"Specified identity\",\"Country\",\"State\",\"Ethnicity\"],inplace=True)\n"
   ]
  },
  {
   "cell_type": "code",
   "execution_count": 21,
   "metadata": {},
   "outputs": [
    {
     "ename": "SyntaxError",
     "evalue": "unterminated string literal (detected at line 8) (4238573302.py, line 8)",
     "output_type": "error",
     "traceback": [
      "\u001b[1;36m  Input \u001b[1;32mIn [21]\u001b[1;36m\u001b[0m\n\u001b[1;33m    df.drop([\"Do you currently work in any of the following professions/sectors?\",\"Household Income\"Household\"],inpace=True)\u001b[0m\n\u001b[1;37m                                                                                                             ^\u001b[0m\n\u001b[1;31mSyntaxError\u001b[0m\u001b[1;31m:\u001b[0m unterminated string literal (detected at line 8)\n"
     ]
    }
   ],
   "source": [
    "pd.get_dummies(df, drop_first = True, columns = ['Describe your place of living'] ).head()\n",
    "df.drop([\"City you live in\"],inpace=True)\n",
    "df[\"How many other people do you share your home with?\"].replace({\"6+\":6,\"\":1},inplace=True)\n",
    "pd.get_dummies(df, drop_first = True, columns = ['What is your current family situation?'] ).head()\n",
    "df[\"How many brothers and sisters did you have when you were growing up?\"].replace({'4':4, '5+':5,'1':1,'2':2,'3':3,'None':0,'Prefer not to say':3,\"\":3},inplace=True)\n",
    "pd.get_dummies(df, drop_first = True, columns = [\"Education\"] ).head()\n",
    "pd.get_dummies(df, drop_first = True, columns = [\"Employment\"] ).head()\n",
    "df.drop([\"Do you currently work in any of the following professions/sectors?\",\"Household Income\",\"Household\"],inpace=True)\n"
   ]
  },
  {
   "cell_type": "code",
   "execution_count": null,
   "metadata": {},
   "outputs": [],
   "source": []
  }
 ],
 "metadata": {
  "kernelspec": {
   "display_name": "Python 3 (ipykernel)",
   "language": "python",
   "name": "python3"
  },
  "language_info": {
   "codemirror_mode": {
    "name": "ipython",
    "version": 3
   },
   "file_extension": ".py",
   "mimetype": "text/x-python",
   "name": "python",
   "nbconvert_exporter": "python",
   "pygments_lexer": "ipython3",
   "version": "3.9.13"
  },
  "vscode": {
   "interpreter": {
    "hash": "d62ed14bcfe00e9327ce4c427a2f9f47c404f2673d9388e850d9d086e145f1c8"
   }
  }
 },
 "nbformat": 4,
 "nbformat_minor": 2
}
