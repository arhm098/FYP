{
 "cells": [
  {
   "cell_type": "code",
   "execution_count": 12,
   "metadata": {},
   "outputs": [],
   "source": [
    "#loading libraries \n",
    "#Add libraries here\n",
    "import pandas as pd\n",
    "import seaborn as sns\n",
    "import matplotlib.pyplot as plt\n"
   ]
  },
  {
   "cell_type": "code",
   "execution_count": 21,
   "metadata": {},
   "outputs": [],
   "source": [
    "#loading data set into the data frame\n",
    "df = pd.read_csv(\"data/dataPakistan.csv\",low_memory=False)\n",
    "pd.options.display.max_rows = 999"
   ]
  },
  {
   "cell_type": "code",
   "execution_count": null,
   "metadata": {},
   "outputs": [],
   "source": [
    "#basic data\n",
    "df.info()\n",
    "df.columns"
   ]
  },
  {
   "cell_type": "code",
   "execution_count": null,
   "metadata": {},
   "outputs": [],
   "source": [
    "# Change this variable if you want the pivoting point between 0 and 1 \n",
    "# 0 and 1 means 0 is critical and 1 is ok status in mental health\n",
    "# this code is mapping this to the given MHQ score in the given\n",
    "# data pivot value -50 will match all above as ok and all below as \n",
    "# critical.  \n",
    "pivot = 0\n",
    "#code to add the y label\n",
    "df[\"status\"] = -1\n",
    "status_label = df[\"status\"]\n",
    "MHQ = df[\"Overall MHQ\"]\n",
    "for index,row in enumerate(status_label):\n",
    "    if MHQ[index] > pivot:\n",
    "        status_label[index] = 1\n",
    "    else:\n",
    "        status_label[index] = 0\n",
    "df[\"status\"] = status_label\n",
    "for i in df[\"status\"]:\n",
    "    print(i)"
   ]
  },
  {
   "cell_type": "code",
   "execution_count": 26,
   "metadata": {},
   "outputs": [
    {
     "data": {
      "text/plain": [
       "Language                                                                                                        0\n",
       "Outlook & Optimism                                                                                              0\n",
       "Selective Attention                                                                                             0\n",
       "Restlessness & Hyperactivity                                                                                    0\n",
       "Fear & Anxiety                                                                                                  0\n",
       "Susceptibility to Infections                                                                                    0\n",
       "Aggression Towards Others                                                                                       0\n",
       "Avoidance & Withdrawal                                                                                          0\n",
       "Unwanted, Strange or Obsessive Thoughts                                                                         0\n",
       "Mood Swings                                                                                                     0\n",
       "Sense of being detached from reality                                                                            0\n",
       "Nightmares                                                                                                      0\n",
       "Addictions                                                                                                      0\n",
       "Anger & Irritability                                                                                            0\n",
       "Suicidal Thoughts or Intentions                                                                                 0\n",
       "Self-Image                                                                                                      0\n",
       "Experience of Pain                                                                                              0\n",
       "Hallucinations                                                                                                  0\n",
       "Traumatic Flashbacks                                                                                            0\n",
       "Repetitive or Compulsive Actions                                                                                0\n",
       "Feelings of Sadness, Distress or Hopelessness                                                                   0\n",
       "Physical Health Issues                                                                                          0\n",
       "Confusion or Slowed Thinking                                                                                    0\n",
       "How regularly to you engage in physical exercise (30 minutes or more)?                                          0\n",
       "How regularly do you socialize with friends in person?                                                          0\n",
       "Do you have friends who would help you out when you are sick or have a problem (e.g. bring food, watch kids)    0\n",
       "Do you have friends you can confide in and with whom you can express your true feelings and opinions?           0\n",
       "Do you have a diagnosed medical disorder that significantly impacts your way of life?                           0\n",
       "Are you currently seeking treatment for any mental health concerns?                                             0\n",
       "Understanding                                                                                                   0\n",
       "Start Date (UTC)                                                                                                0\n",
       "Guilt & Blame                                                                                                   0\n",
       "Sensory Sensitivity                                                                                             0\n",
       "Empathy                                                                                                         0\n",
       "Appetite Regulation                                                                                             0\n",
       "Overall MHQ                                                                                                     0\n",
       "Core Cognition                                                                                                  0\n",
       "Complex Cognition                                                                                               0\n",
       "Drive & Motivation                                                                                              0\n",
       "Mood & Outlook                                                                                                  0\n",
       "Social & Self                                                                                                   0\n",
       "Mind Body Connection                                                                                            0\n",
       "Age                                                                                                             0\n",
       "Education                                                                                                       0\n",
       "Employment                                                                                                      0\n",
       "Adaptability to Change                                                                                          0\n",
       "Self Worth & Confidence                                                                                         0\n",
       "Creativity & Problem Solving                                                                                    0\n",
       "Drive & Motivation.1                                                                                            0\n",
       "Stability & Calmness                                                                                            0\n",
       "Sleep Quality                                                                                                   0\n",
       "Self Control & Impulsivity                                                                                      0\n",
       "Focus & Concentration                                                                                           0\n",
       "Emotional Control                                                                                               0\n",
       "Energy Level                                                                                                    0\n",
       "Curiosity, Interest & Enthusiasm                                                                                0\n",
       "Decision-making & Risk-taking                                                                                   0\n",
       "Social interactions & Cooperation                                                                               0\n",
       "Submit Date (UTC)                                                                                               0\n",
       "Memory                                                                                                          0\n",
       "Sexual Satisfaction                                                                                             0\n",
       "Planning & Organisation                                                                                         0\n",
       "Emotional Resilience                                                                                            0\n",
       "Relationships with others                                                                                       0\n",
       "Coordination                                                                                                    0\n",
       "Ability to Learn                                                                                                0\n",
       "Speech & Language                                                                                               0\n",
       "Time to completion                                                                                              0\n",
       "dtype: int64"
      ]
     },
     "execution_count": 26,
     "metadata": {},
     "output_type": "execute_result"
    }
   ],
   "source": [
    "#now we need to check null values, we dealt with some in emp_length but lets see the whole picture\n",
    "df.isnull().sum().sort_values()\n",
    "#running the following codes we can see the data is ready to put into the model now"
   ]
  },
  {
   "cell_type": "code",
   "execution_count": null,
   "metadata": {},
   "outputs": [],
   "source": [
    "plt.figure(figsize=(12,7))\n",
    "sns.heatmap(df.corr(), annot=False, cmap='Blues')\n",
    "plt.tight_layout()"
   ]
  },
  {
   "cell_type": "code",
   "execution_count": null,
   "metadata": {},
   "outputs": [],
   "source": [
    "#checking nulls of rows\n",
    "print(df[\"Adult traumas\"].isnull().sum())\n",
    "print(df[\"Adult traumas\"].unique())"
   ]
  },
  {
   "cell_type": "code",
   "execution_count": 22,
   "metadata": {},
   "outputs": [],
   "source": [
    "df[\"Are you currently seeking treatment for any mental health concerns?\"].replace({\"No\":0,\"Yes\":1,\"Prefer not to say\":-1},inplace=True)\n",
    "df[\"Do you have a diagnosed medical disorder that significantly impacts your way of life?\"].replace({\"No\":0,\"Yes\":1,\"Prefer not to say\":-1},inplace=True)\n",
    "#filling nulls of Do you have friends you can confide in and with whom you can express your true feelings and opinions?\"\n",
    "df[\"Do you have friends you can confide in and with whom you can express your true feelings and opinions?\"].fillna(0,inplace=True)\n",
    "df[\"Do you have friends you can confide in and with whom you can express your true feelings and opinions?\"].replace({\"Yes\":1,\"Not sure\":-1,\"Prefer not to say\":-1,\"No\":0,\"|Not sure\":-1,\"|Yes\":1},inplace=True)\n",
    "#filling nulls of Do you have friends who would help you out when you are sick or have a problem (e.g. bring food, watch kids)\n",
    "df[\"Do you have friends who would help you out when you are sick or have a problem (e.g. bring food, watch kids)\"].fillna(0,inplace=True)\n",
    "df[\"Do you have friends who would help you out when you are sick or have a problem (e.g. bring food, watch kids)\"].replace({\"Yes\":1,\"Not sure\":-1,\"Prefer not to say\":-1,\"No\":0,\"|Not sure\":-1,\"|Yes\":1},inplace=True)"
   ]
  },
  {
   "cell_type": "code",
   "execution_count": null,
   "metadata": {},
   "outputs": [],
   "source": [
    "#fixing gender and age  rows\n",
    "age = df[\"Age\"]\n",
    "for i,n in enumerate(age):\n",
    "    age[i] = int(n[:2])\n",
    "df[\"Age\"] = age\n",
    "\n",
    "df[\"Biological Sex\"].replace({\"Female\":1,\"Male\":2,\"\":0,\"Other/Intersex\":0,\"Prefer not to say\":0},inplace=True)\n",
    "#dropping useless rows and fixing gender rows with one hot encoding\n",
    "df.drop([\"Is identity different from biological sex\",\"Specified identity\",\"Country\",\"State\",\"Ethnicity\"],inplace=True, axis=1)\n"
   ]
  },
  {
   "cell_type": "code",
   "execution_count": null,
   "metadata": {},
   "outputs": [],
   "source": [
    "#this where the data is being cleaned and converted to be ready for models\n",
    "#for front end please see the values for mapping to the right questions to thier numerical equivilence values\n",
    "pd.get_dummies(df, drop_first = True, columns = ['Describe your place of living'] ).head()\n",
    "df.drop([\"City you live in\"],inplace=True,axis=1)\n",
    "df[\"How many other people do you share your home with?\"].replace({\"6+\":6,\"\":1},inplace=True)\n",
    "pd.get_dummies(df, drop_first = True, columns = ['What is your current family situation?'] ).head()\n",
    "df[\"How many brothers and sisters did you have when you were growing up?\"].replace({'4':4, '5+':5,'1':1,'2':2,'3':3,'None':0,'Prefer not to say':3,\"\":3},inplace=True)\n",
    "pd.get_dummies(df, drop_first = True, columns = [\"Education\"] ).head()\n",
    "pd.get_dummies(df, drop_first = True, columns = [\"Employment\"] ).head()\n",
    "df.drop([\"Chilhood traumas\",\"Diagnosed mental health disorders\",\"Seeking help feedback\",\"Not seeking help reasons\",\"Please select which substances you consume regularly (at least every week)\",\"Medical Condition\",\"How did your parents or caregivers support you?\",\"What best describes the way you interact with your close friends?\",\"Do you currently work in any of the following professions/sectors?\",\"Household Income\",\"Household\",\"Primary nature of strange, unwanted or obsessive thoughts\",\"Options that best describe your feelings of Guilt and Blame\"],inplace=True, axis=1)\n",
    "df[\"In general, I get as much sleep as I need:\"].replace({\"All of the time\":3,\"Hardly ever\":2,\"Some of the time\":1,\"Most of the time\":0},inplace=True)\n",
    "df[\"How regularly to you engage in physical exercise (30 minutes or more)?\"].replace({\"Rarely/Never\":0,\"Few days a week\":3,\"Every day\":7,\"Once a week\":1},inplace=True)\n",
    "df[\"How regularly do you socialize with friends in person?\"].replace({\"Rarely/Never\":0,\"Several days a week\":15,\"1-3 times a month\":3,\"Once a week\":4},inplace=True)\n",
    "pd.get_dummies(df, drop_first = True, columns = [\"How would you describe your relationships with your adult family?\"] ).head()"
   ]
  },
  {
   "cell_type": "code",
   "execution_count": null,
   "metadata": {},
   "outputs": [],
   "source": [
    "# CORE COGNITION\n",
    "#getting non null rows for the intermediate model\n",
    "df = df.dropna(axis='columns')\n",
    "#dropping useless cols\n",
    "df = df.drop([\"Language\",\"Overall MHQ\",\"Complex Cognition\",\"Drive & Motivation\",\"Mood & Outlook\",\"Social & Self\",\"Mind Body Connection\",\"Country\"],axis='columns')\n",
    "df.isnull()"
   ]
  }
 ],
 "metadata": {
  "kernelspec": {
   "display_name": "Python 3 (ipykernel)",
   "language": "python",
   "name": "python3"
  },
  "language_info": {
   "codemirror_mode": {
    "name": "ipython",
    "version": 3
   },
   "file_extension": ".py",
   "mimetype": "text/x-python",
   "name": "python",
   "nbconvert_exporter": "python",
   "pygments_lexer": "ipython3",
   "version": "3.10.8"
  },
  "vscode": {
   "interpreter": {
    "hash": "d62ed14bcfe00e9327ce4c427a2f9f47c404f2673d9388e850d9d086e145f1c8"
   }
  }
 },
 "nbformat": 4,
 "nbformat_minor": 2
}
